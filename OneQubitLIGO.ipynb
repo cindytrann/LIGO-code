{
  "cells": [
    {
      "cell_type": "code",
      "execution_count": null,
      "id": "191b1733",
      "metadata": {
        "id": "191b1733",
        "outputId": "4cbaa2b7-8a03-4d03-ea0a-5451b8c02165"
      },
      "outputs": [
        {
          "name": "stderr",
          "output_type": "stream",
          "text": [
            "ibmqfactory.load_account:WARNING:2021-07-17 00:52:43,258: Credentials are already in use. The existing account in the session will be replaced.\n"
          ]
        }
      ],
      "source": [
        "%matplotlib inline\n",
        "# Importing standard Qiskit libraries and configuring account\n",
        "from qiskit import QuantumCircuit, QuantumRegister, \\\n",
        "        ClassicalRegister, execute, Aer, IBMQ\n",
        "from qiskit.compiler import transpile, assemble\n",
        "from qiskit.tools.jupyter import *\n",
        "from qiskit.visualization import *\n",
        "from ibm_quantum_widgets import *\n",
        "\n",
        "from qiskit.tools.visualization import plot_histogram\n",
        "from qiskit.tools.monitor import job_monitor\n",
        "\n",
        "# Importing standard libraries for ploting and doing math\n",
        "import matplotlib.pyplot as plt\n",
        "import numpy as np\n",
        "from numpy import pi\n",
        "\n",
        "# Loading your IBM Q account(s)\n",
        "provider = IBMQ.load_account()"
      ]
    },
    {
      "cell_type": "code",
      "execution_count": null,
      "id": "b6994bad",
      "metadata": {
        "id": "b6994bad"
      },
      "outputs": [],
      "source": [
        "# Set the number of registers for you quantum circuit\n",
        "qreg_q = QuantumRegister(1, 'q')\n",
        "creg_c = ClassicalRegister(1, 'c')\n",
        "\n",
        "# Initialize a list to hold all of the circuits you want to run at the same time\n",
        "circuits = []\n",
        "# List of the parameter you get to vary, \n",
        "# here it's chosing 5 angles evenly space from 0 to 2*pi\n",
        "angles = np.linspace(0,2*pi,11) \n",
        "\n",
        "#list counting number of trials\n",
        "trials = range(1) \n",
        "\n",
        "for angle in angles:\n",
        "    # Copy in your code from the quantum composer here:\n",
        "    circuit = QuantumCircuit(qreg_q, creg_c)\n",
        "    circuit.reset(qreg_q[0])\n",
        "    circuit.h(qreg_q[0])\n",
        "    circuit.rz(angle, qreg_q[0])\n",
        "    circuit.h(qreg_q[0])\n",
        "    circuit.measure(qreg_q[0], creg_c[0])\n",
        "    \n",
        "    # Add the circuit to the list of circuits you would like to use \n",
        "    # Currently set up to add it multiple times if \n",
        "    for trial in trials:\n",
        "        circuits.append(circuit)\n"
      ]
    },
    {
      "cell_type": "code",
      "execution_count": null,
      "id": "a4df87e7",
      "metadata": {
        "id": "a4df87e7",
        "outputId": "480a439d-b2ea-4154-c87c-f363115826df"
      },
      "outputs": [
        {
          "name": "stdout",
          "output_type": "stream",
          "text": [
            "11\n"
          ]
        }
      ],
      "source": [
        "# Check to see how many circuits we've made (should be number of angles * number of trials)\n",
        "print(len(circuits))"
      ]
    },
    {
      "cell_type": "code",
      "execution_count": null,
      "id": "192a0b88",
      "metadata": {
        "id": "192a0b88"
      },
      "outputs": [],
      "source": [
        "# Draw circuit diagram (Optional)\n",
        "circuit_to_draw = circuits[0] # Selecting the first circuit in the list, \n",
        "                              # you can change the 0 to look at other circuits"
      ]
    },
    {
      "cell_type": "code",
      "execution_count": null,
      "id": "37722e50",
      "metadata": {
        "id": "37722e50",
        "outputId": "89bcfe46-abd5-42f0-d921-759580b1e650"
      },
      "outputs": [
        {
          "data": {
            "image/png": "[encoded data removed]",
            "text/plain": [
              "<PIL.Image.Image image mode=RGB size=628x122 at 0x7FBF408FF7F0>"
            ]
          },
          "execution_count": 21,
          "metadata": {},
          "output_type": "execute_result"
        }
      ],
      "source": [
        "# See the circuit as a picture here (can take a couple minutes)\n",
        "circuit_to_draw.draw(output='latex')"
      ]
    },
    {
      "cell_type": "code",
      "execution_count": null,
      "id": "1b29acc4",
      "metadata": {
        "id": "1b29acc4",
        "outputId": "2e3086f0-0bb3-4f44-eaa5-1c7fed7119d5"
      },
      "outputs": [
        {
          "name": "stdout",
          "output_type": "stream",
          "text": [
            "% \\documentclass[preview]{standalone}\n",
            "% If the image is too large to fit on this documentclass use\n",
            "\\documentclass[draft]{beamer}\n",
            "% img_width = 2, img_depth = 7\n",
            "\\usepackage[size=custom,height=10,width=18,scale=0.7]{beamerposter}\n",
            "% instead and customize the height and width (in cm) to fit.\n",
            "% Large images may run out of memory quickly.\n",
            "% To fix this use the LuaLaTeX compiler, which dynamically\n",
            "% allocates memory.\n",
            "\\usepackage[braket, qm]{qcircuit}\n",
            "\\usepackage{amsmath}\n",
            "\\pdfmapfile{+sansmathaccent.map}\n",
            "% \\usepackage[landscape]{geometry}\n",
            "% Comment out the above line if using the beamer documentclass.\n",
            "\\begin{document}\n",
            "\n",
            "\\begin{equation*}\n",
            "    \\Qcircuit @C=1.0em @R=0.2em @!R {\n",
            "\t \t\\lstick{ {q}_{0} :  } & \\gate{\\left|0\\right\\rangle} & \\gate{\\mathrm{H}} & \\gate{\\mathrm{R}_\\mathrm{Z}\\,\\mathrm{(}\\mathrm{0}\\mathrm{)}} & \\gate{\\mathrm{H}} & \\meter & \\qw & \\qw\\\\\n",
            "\t \t\\lstick{c:} & \\lstick{/_{_{1}}} \\cw & \\cw & \\cw & \\cw & \\dstick{_{_{0}}} \\cw \\cwx[-1] & \\cw & \\cw\\\\\n",
            "\t }\n",
            "\\end{equation*}\n",
            "\n",
            "\\end{document}\n"
          ]
        }
      ],
      "source": [
        "# Print out the source code to copy into the paper\n",
        "source_code = circuit_to_draw.draw(output='latex_source')\n",
        "print(source_code)"
      ]
    },
    {
      "cell_type": "code",
      "execution_count": null,
      "id": "2bdfc170",
      "metadata": {
        "id": "2bdfc170"
      },
      "outputs": [],
      "source": [
        "# Set up connection to quantum computer. \n",
        "# You might want to check in the circuit developer which one is the best to use/ not too busy\n",
        "# Higher quantum volume may mean that it matches your predictions better, but is more busy\n",
        "device_backend = provider.get_backend('ibmq_belem') #5 qubits, 16 Quantum volume\n",
        "# Set the number of shots:\n",
        "device_shots = 1024"
      ]
    },
    {
      "cell_type": "code",
      "execution_count": null,
      "id": "d00ef40b",
      "metadata": {
        "id": "d00ef40b",
        "outputId": "54860a02-26e5-41a6-f2cf-fd300cedaa27"
      },
      "outputs": [
        {
          "name": "stdout",
          "output_type": "stream",
          "text": [
            "Job Status: job has successfully run\n"
          ]
        }
      ],
      "source": [
        "# Run all your circuits on the quantum computer!\n",
        "## backend = device name, shots = number of shots\n",
        "## memory = True means that you remeber all data points in order (not just counts)\n",
        "job = execute(circuits, backend=device_backend, shots=device_shots,optimization_level=3,memory=True)\n",
        "# Keep an eye on where you are in the queue\n",
        "job_monitor(job)\n",
        "# Record the data from all circuits as a Result object\n",
        "result = job.result()"
      ]
    },
    {
      "cell_type": "code",
      "execution_count": null,
      "id": "389c8376",
      "metadata": {
        "id": "389c8376"
      },
      "outputs": [],
      "source": [
        "# Look here for everything you can do to a result: \n",
        "# https://qiskit.org/documentation/stubs/qiskit.result.Result.html#qiskit.result.Result\n",
        "\n",
        "# For example: Extract the counts for each circuit\n",
        "data_counts = [result.get_counts(i) for i in range(len(circuits))]\n",
        "data_full = [result.get_memory(i) for i in range(len(circuits))]\n",
        "\n"
      ]
    },
    {
      "cell_type": "code",
      "execution_count": null,
      "id": "ccb4b89b",
      "metadata": {
        "id": "ccb4b89b",
        "outputId": "fca8091d-ca91-4243-8565-d90fd16d1bb7"
      },
      "outputs": [
        {
          "data": {
            "text/plain": [
              "{'0': 1016, '1': 8}"
            ]
          },
          "execution_count": 26,
          "metadata": {},
          "output_type": "execute_result"
        }
      ],
      "source": [
        "# look at wat counts looks like (it's a dictionary): \n",
        "data_counts[0]"
      ]
    },
    {
      "cell_type": "code",
      "execution_count": null,
      "id": "258b83f1",
      "metadata": {
        "id": "258b83f1",
        "outputId": "83c42887-8c6b-4fa9-e408-e2cf33d46eee"
      },
      "outputs": [
        {
          "data": {
            "text/plain": [
              "1016"
            ]
          },
          "execution_count": 27,
          "metadata": {},
          "output_type": "execute_result"
        }
      ],
      "source": [
        "# You can get the number zero counts like this: \n",
        "data_counts[0]['0']"
      ]
    },
    {
      "cell_type": "code",
      "execution_count": null,
      "id": "b0aeafdd",
      "metadata": {
        "id": "b0aeafdd"
      },
      "outputs": [],
      "source": [
        "Num_1s = [data_counts[i]['1'] for i in range(len(circuits))]"
      ]
    },
    {
      "cell_type": "code",
      "execution_count": null,
      "id": "ebcf665a",
      "metadata": {
        "id": "ebcf665a",
        "outputId": "7e1d950f-41d7-4982-d8de-9a4807d9772b"
      },
      "outputs": [
        {
          "data": {
            "text/plain": [
              "[<matplotlib.lines.Line2D at 0x7fbebb6da520>]"
            ]
          },
          "execution_count": 31,
          "metadata": {},
          "output_type": "execute_result"
        },
        {
          "data": {
            "image/png": "[encoded data removed]",
            "text/plain": [
              "<Figure size 432x288 with 1 Axes>"
            ]
          },
          "metadata": {
            "needs_background": "light"
          },
          "output_type": "display_data"
        }
      ],
      "source": [
        "plt.plot(angles,Num_1s,'o')"
      ]
    },
    {
      "cell_type": "code",
      "execution_count": null,
      "id": "973be90b",
      "metadata": {
        "id": "973be90b"
      },
      "outputs": [],
      "source": [
        ""
      ]
    }
  ],
  "metadata": {
    "kernelspec": {
      "display_name": "Python 3",
      "language": "python",
      "name": "python3"
    },
    "language_info": {
      "codemirror_mode": {
        "name": "ipython",
        "version": 3
      },
      "file_extension": ".py",
      "mimetype": "text/x-python",
      "name": "python",
      "nbconvert_exporter": "python",
      "pygments_lexer": "ipython3",
      "version": "3.8.10"
    },
    "colab": {
      "name": "OneQubitLIGO.ipynb",
      "provenance": []
    }
  },
  "nbformat": 4,
  "nbformat_minor": 5
}